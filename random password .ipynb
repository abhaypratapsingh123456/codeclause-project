{
 "cells": [
  {
   "cell_type": "code",
   "execution_count": 12,
   "id": "c41f86d5",
   "metadata": {},
   "outputs": [
    {
     "name": "stdout",
     "output_type": "stream",
     "text": [
      "Enter the length of the password: 123\n",
      "Generated Password: :G>\\J<D0L5S>-WN?,:^hF6mtxb$|Q1\"GH.zvTOgcNzj,>r3h]-Tal`Bt'hGi6%-1GAWl\"'=|}pGrl4bFc!q@c:AVRJs;YRsKE[cm;/Oz^e?a]xwbIzJcKE/Vj\\4\n"
     ]
    }
   ],
   "source": [
    "import random\n",
    "import string\n",
    "\n",
    "def generate_password(length):\n",
    "    characters = string.ascii_letters + string.digits + string.punctuation\n",
    "    password = ''.join(random.choice(characters) for _ in range(length))\n",
    "    return password\n",
    "\n",
    "password_length = int(input(\"Enter the length of the password: \"))\n",
    "password = generate_password(password_length)\n",
    "print(\"Generated Password:\", password)\n"
   ]
  },
  {
   "cell_type": "code",
   "execution_count": 9,
   "id": "66fce357",
   "metadata": {},
   "outputs": [],
   "source": [
    "#In this code, the generate_password function takes a parameter length which specifies the desired length of the password. It uses the string module to define a set of characters that can be used in the password, including uppercase and lowercase letters, digits, and punctuation marks. Then it uses random.choice to randomly select characters from this set and creates a string of the desired length.\n",
    "\n",
    "#The code prompts the user to enter the length of the password, calls the generate_password function, and then prints the generated password.\n",
    "\n",
    "#You can customize the set of characters in the characters variable according to your requirements. For example, if you want to generate passwords that only contain letters and digits, you can remove the string.punctuation from the characters string."
   ]
  },
  {
   "cell_type": "code",
   "execution_count": null,
   "id": "5034f981",
   "metadata": {},
   "outputs": [],
   "source": []
  }
 ],
 "metadata": {
  "kernelspec": {
   "display_name": "Python 3 (ipykernel)",
   "language": "python",
   "name": "python3"
  },
  "language_info": {
   "codemirror_mode": {
    "name": "ipython",
    "version": 3
   },
   "file_extension": ".py",
   "mimetype": "text/x-python",
   "name": "python",
   "nbconvert_exporter": "python",
   "pygments_lexer": "ipython3",
   "version": "3.10.7"
  }
 },
 "nbformat": 4,
 "nbformat_minor": 5
}
