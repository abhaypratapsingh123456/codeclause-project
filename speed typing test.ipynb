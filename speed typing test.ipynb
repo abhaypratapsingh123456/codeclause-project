{
 "cells": [
  {
   "cell_type": "code",
   "execution_count": 1,
   "id": "94a40f65",
   "metadata": {},
   "outputs": [
    {
     "name": "stdout",
     "output_type": "stream",
     "text": [
      "Welcome to the Speed Typing Test!\n",
      "You will be given a random sentence to type.\n",
      "Press Enter to start the test.\n",
      "Type the following sentence:\n",
      "The quick brown fox jumps over the lazy dog.\n",
      "Press Enter when you're ready to start typing.\n",
      "the quick brown fox jumps over the lazy dog\n",
      "Test completed!\n",
      "Time elapsed: 29.91 seconds\n",
      "Your typing speed: 0.3 words per second\n"
     ]
    }
   ],
   "source": [
    "import time\n",
    "\n",
    "def calculate_typing_speed(text, elapsed_time):\n",
    "    words = text.split()\n",
    "    num_words = len(words)\n",
    "    typing_speed = num_words / elapsed_time\n",
    "    return typing_speed\n",
    "\n",
    "def run_typing_test():\n",
    "    print(\"Welcome to the Speed Typing Test!\")\n",
    "    print(\"You will be given a random sentence to type.\")\n",
    "    input(\"Press Enter to start the test.\")\n",
    "\n",
    "    # Random sentence for typing test\n",
    "    sentence = \"The quick brown fox jumps over the lazy dog.\"\n",
    "\n",
    "    print(\"Type the following sentence:\")\n",
    "    print(sentence)\n",
    "\n",
    "    input(\"Press Enter when you're ready to start typing.\")\n",
    "\n",
    "    start_time = time.time()\n",
    "\n",
    "    user_input = input()\n",
    "\n",
    "    end_time = time.time()\n",
    "    elapsed_time = end_time - start_time\n",
    "\n",
    "    typing_speed = calculate_typing_speed(user_input, elapsed_time)\n",
    "\n",
    "    print(\"Test completed!\")\n",
    "    print(\"Time elapsed:\", round(elapsed_time, 2), \"seconds\")\n",
    "    print(\"Your typing speed:\", round(typing_speed, 2), \"words per second\")\n",
    "\n",
    "run_typing_test()\n"
   ]
  },
  {
   "cell_type": "code",
   "execution_count": null,
   "id": "0b35283a",
   "metadata": {},
   "outputs": [],
   "source": []
  }
 ],
 "metadata": {
  "kernelspec": {
   "display_name": "Python 3 (ipykernel)",
   "language": "python",
   "name": "python3"
  },
  "language_info": {
   "codemirror_mode": {
    "name": "ipython",
    "version": 3
   },
   "file_extension": ".py",
   "mimetype": "text/x-python",
   "name": "python",
   "nbconvert_exporter": "python",
   "pygments_lexer": "ipython3",
   "version": "3.10.7"
  }
 },
 "nbformat": 4,
 "nbformat_minor": 5
}
