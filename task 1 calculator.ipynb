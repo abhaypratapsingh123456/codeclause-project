{
 "cells": [
  {
   "cell_type": "code",
   "execution_count": 2,
   "id": "856ef76c",
   "metadata": {},
   "outputs": [
    {
     "name": "stdout",
     "output_type": "stream",
     "text": [
      "Select an operation:\n",
      "1. Addition\n",
      "2. Subtraction\n",
      "3. Multiplication\n",
      "4. Division\n",
      "Enter the operation number (1-4): 4\n",
      "Enter the first number: 67\n",
      "Enter the second number: 88\n",
      "Result: 0.7613636363636364\n"
     ]
    }
   ],
   "source": [
    "def add(x, y):\n",
    "    return x + y\n",
    "\n",
    "def subtract(x, y):\n",
    "    return x - y\n",
    "\n",
    "def multiply(x, y):\n",
    "    return x * y\n",
    "\n",
    "def divide(x, y):\n",
    "    if y != 0:\n",
    "        return x / y\n",
    "    else:\n",
    "        print(\"Error: Cannot divide by zero!\")\n",
    "        return None\n",
    "\n",
    "print(\"Select an operation:\")\n",
    "print(\"1. Addition\")\n",
    "print(\"2. Subtraction\")\n",
    "print(\"3. Multiplication\")\n",
    "print(\"4. Division\")\n",
    "\n",
    "choice = input(\"Enter the operation number (1-4): \")\n",
    "\n",
    "num1 = float(input(\"Enter the first number: \"))\n",
    "num2 = float(input(\"Enter the second number: \"))\n",
    "\n",
    "if choice == '1':\n",
    "    result = add(num1, num2)\n",
    "    print(\"Result:\", result)\n",
    "elif choice == '2':\n",
    "    result = subtract(num1, num2)\n",
    "    print(\"Result:\", result)\n",
    "elif choice == '3':\n",
    "    result = multiply(num1, num2)\n",
    "    print(\"Result:\", result)\n",
    "elif choice == '4':\n",
    "    result = divide(num1, num2)\n",
    "    if result is not None:\n",
    "        print(\"Result:\", result)\n",
    "else:\n",
    "    print(\"Invalid input. Please enter a number between 1 and 4.\")"
   ]
  },
  {
   "cell_type": "code",
   "execution_count": null,
   "id": "d87d5d21",
   "metadata": {},
   "outputs": [],
   "source": []
  }
 ],
 "metadata": {
  "kernelspec": {
   "display_name": "Python 3 (ipykernel)",
   "language": "python",
   "name": "python3"
  },
  "language_info": {
   "codemirror_mode": {
    "name": "ipython",
    "version": 3
   },
   "file_extension": ".py",
   "mimetype": "text/x-python",
   "name": "python",
   "nbconvert_exporter": "python",
   "pygments_lexer": "ipython3",
   "version": "3.10.7"
  }
 },
 "nbformat": 4,
 "nbformat_minor": 5
}
